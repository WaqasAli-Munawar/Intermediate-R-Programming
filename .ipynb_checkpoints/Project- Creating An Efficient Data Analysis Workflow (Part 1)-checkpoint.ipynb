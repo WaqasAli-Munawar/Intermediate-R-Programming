{
 "cells": [
  {
   "cell_type": "markdown",
   "metadata": {},
   "source": [
    "In this project, we will be acting as a data analyst for a company that sells books for learning programming. Our company has produced multiple books, and each has received many reviews. Our company wants us to check out the sales data and see if we can extract any useful information from it. We'll walk through this process as we progrses through this project."
   ]
  },
  {
   "cell_type": "markdown",
   "metadata": {},
   "source": [
    "For our R projects, we should be working with an RMarkdown file in our own RStudio. We can download the dataset [here](https://data.world/dataquest/book-reviews). `\n",
    "\n",
    "We can refer to the suggested solutions [here](https://github.com/dataquestio/solutions/blob/master/Mission498Solutions.Rmd)"
   ]
  },
  {
   "cell_type": "markdown",
   "metadata": {},
   "source": [
    "The first thing we should do before we do any analysis is to get acquainted with dataset. There are many, many things to check with a dataset before we dive into any analysis. How much data is there? What kind of data do we actually have on hand? Is there anything \"weird\" that might interfere with any analyses we might need to do? Is there missing data? Answering these questions saves our time and effort later.\n",
    "\n",
    "If we don't check the data beforehand, it's easy to make some false assumptions about the data that can hinder our progress later. Maybe we think that one column looks like a number, but it's actually been read in as a string. Perhaps some things were misspelled. In any case, getting familiar with the data is our first step in the data analysis workflow. Here's a few helpful questions to start out any data analysis. Answer each of these questions for the sales dataset.\n",
    "\n",
    "* Some of the questions can be answered with a `for` loop. \n",
    "* Other questions might incorporate control flow with an `if` statement."
   ]
  },
  {
   "cell_type": "markdown",
   "metadata": {},
   "source": [
    "For the most part, we will be using the [`if_else()` function](https://dplyr.tidyverse.org/reference/if_else.html) and [`case_when()` function](https://dplyr.tidyverse.org/reference/case_when.html) since we'll be dealing with data in tibbles, but it's still good to know the general control flow structure."
   ]
  },
  {
   "attachments": {
    "image.png": {
     "image/png": "[encoded data removed]"
    }
   },
   "cell_type": "markdown",
   "metadata": {},
   "source": [
    "One of the instructions also asks about unique values in a column. If we have a vector that has duplicate values in it, we can see all of the unique values in it with the [`unique()` function](https://stat.ethz.ch/R-manual/R-devel/library/base/html/unique.html). We show an example use below:\n",
    "\n",
    "![image.png](attachment:image.png)"
   ]
  },
  {
   "cell_type": "markdown",
   "metadata": {},
   "source": [
    "`library(tidyverse)\n",
    "library(readr)\n",
    "reviews <- read_csv(\"book_reviews.csv\")`"
   ]
  },
  {
   "cell_type": "markdown",
   "metadata": {},
   "source": [
    "### Getting Familiar With The Data"
   ]
  },
  {
   "cell_type": "markdown",
   "metadata": {},
   "source": [
    "`# How big is the dataset?\n",
    "dim(reviews)`\n",
    "\n",
    "`# What are the column names?\n",
    "colnames(reviews)`\n",
    "\n",
    "`# What are the column types?\n",
    "for (c in colnames(reviews)) {\n",
    "  typeof(reviews[[c]])\n",
    "}`"
   ]
  },
  {
   "cell_type": "markdown",
   "metadata": {},
   "source": [
    "`# What are the unique values in each column?\n",
    "for (c in colnames(reviews)) {\n",
    "  print(\"Unique values in the column:\")\n",
    "  print(c)\n",
    "  print(unique(reviews[[c]]))\n",
    "  print(\"\")\n",
    "}`"
   ]
  },
  {
   "cell_type": "markdown",
   "metadata": {},
   "source": [
    "All of the columns seem to contain strings. The `reviews` column represents what the score that the reviewer gave the book. The `book` column indicates which particular textbook was purchased. The `state` column represents the state where the book was purchased. The `price` column represents the price that the book was purchased for."
   ]
  },
  {
   "cell_type": "markdown",
   "metadata": {},
   "source": [
    "### Handling Missing Data\n",
    "\n",
    "Now that we are more familiar with the data itself, now we can get into the more specific details of data analysis. A large part of a data analyst's job is to take a raw dataset and turn it into a form that we can use for analysis. Many times, we will not be able to just take a dataset and start analyzing it. It's good practice to examine the data beforehand and make note of any changes we need to make for it. This process has many names, but for future reference, we'll call it **data cleaning** or **data processing**.\n",
    "\n",
    "The first issue we will contend with is the issue of missing data. Missing data is annoying because there's nothing we can really do with it. We can't perform any analysis or calculations with missing data. In R, missing data is typically shown with `NA`, which stands for **\"not available\"**. Some other datasets may convey missingness in a different way, but `NA` is the most common.\n",
    "\n",
    "There are two ways that we can deal with missing data: \n",
    "\n",
    "1. Remove any rows or columns that have missing data (typically, rows) or \n",
    "\n",
    "2. Fill in the missing data in an informed, discipline way. \n",
    "\n",
    "This second way is known as **imputation**, and it's outside of the scope of what we've learned so far. For now, we'll take first approach with this dataset.\n",
    "\n",
    "Recall from the Working With Tibbles that we can use a combination of the [`filter()` function](https://dplyr.tidyverse.org/reference/filter.html) and the [`is.na()` function](https://stat.ethz.ch/R-manual/R-devel/library/base/html/NA.html) to remove rows that have missing data. `is.na()` will return `TRUE` or `FALSE` depending on if a value is `NA` or not. This makes it an excellent candidate to `filter()` on."
   ]
  },
  {
   "cell_type": "markdown",
   "metadata": {},
   "source": [
    "`complete_reviews = reviews %>% filter(!is.na(review))\n",
    "dim(complete_reviews)`"
   ]
  },
  {
   "cell_type": "markdown",
   "metadata": {},
   "source": [
    "There were about 200 reviews that were removed from the dataset. This is about 10% of the original dataset. This isn't too big of an amount, so we would feel comfortable continuing with our analysis.\n"
   ]
  },
  {
   "cell_type": "markdown",
   "metadata": {},
   "source": [
    "### Dealing With Inconsistent Labels\n",
    "\n",
    "Now that we've removed all of the missing data from the dataset, we have a **complete** dataset. This is the ideal case that we would like to start any data analysis, so we're working towards a better dataset already.\n",
    "\n",
    "The next thing that we need to work on is the `state` column. We may have noticed that the labeling for each state is inconsistent. For example, California is written as both \"California\" and \"CA\". Both \"California\" and \"CA\" refer to the same place in the United States, so we should try to clean this up. We need to choose one of the ways to refer to the state, and stick to that convention. Making labels/strings more consistent in the data will make things easier to analyze later on.\n",
    "\n",
    "If we're unfamiliar with the shortened postal codes of the states, we can refer to this helpful guide [here](https://www.factmonster.com/us/postal-information/state-abbreviations-and-state-postal-codes). It would be helpful to write down the relevant states in our RMarkdown for reference later if we forget, so we don't have to refer back to the site itself."
   ]
  },
  {
   "cell_type": "markdown",
   "metadata": {},
   "source": [
    "We'll use the shortened postal codes instead since they're shorter.\n",
    "\n",
    "`# creating a new column `\n",
    "\n",
    "`complete_reviews <- complete_reviews %>% \n",
    "  mutate(\n",
    "    state = case_when(\n",
    "      state == \"California\" ~ \"CA\",\n",
    "      state == \"New York\" ~ \"NY\",\n",
    "      state == \"Texas\" ~ \"TX\",\n",
    "      state == \"Florida\" ~ \"FL\",\n",
    "      TRUE ~ state # ignore cases where it's already postal code\n",
    "    )\n",
    "  )`"
   ]
  },
  {
   "cell_type": "markdown",
   "metadata": {},
   "source": [
    "### Transforming The Review Data\n",
    "\n",
    "The first things we'll handle in the dataset are the reviews themselves. We may have noticed in our data exploration that the reviews take the form of strings, ranging from \"Poor\" to \"Excellent\". Our goal is to evaluate the ratings of each of the textbooks, but there's not much we can do with text versions of the review scores. It would be better if we were to convert the reviews into a numerical form."
   ]
  },
  {
   "cell_type": "markdown",
   "metadata": {},
   "source": [
    "`Creating two (2) new column \"review_num\" and \"is_high_review\"`\n",
    "\n",
    "`complete_reviews <- complete_reviews %>% \n",
    "  mutate(\n",
    "    review_num = case_when(\n",
    "      review == \"Poor\" ~ 1,\n",
    "      review == \"Fair\" ~ 2,\n",
    "      review == \"Good\" ~ 3,\n",
    "      review == \"Great\" ~ 4,\n",
    "      review == \"Excellent\" ~ 5\n",
    "    ),\n",
    "    is_high_review = if_else(review_num >= 4, TRUE, FALSE)\n",
    "  )`\n"
   ]
  },
  {
   "cell_type": "markdown",
   "metadata": {},
   "source": [
    "### Analyzing The Data\n",
    "\n",
    "It's important to keep the overall goal in mind as we handle all the little details of the cleaning. We are acting as an analyst trying to figure out which books are the most profitable for the company. The initial data wasn't in a form that was ready for analysis, so we needed to do this cleaning to prepare it. A lot of analysts starting their first jobs believe that the analysis part of their job will be the bulk of their work. To the contrary, a lot of our work will focus on data cleaning itself, while by comparison the data analysis might only take a few lines.\n",
    "\n",
    "With all of our data cleaning, now we're ready to do some analysis of the data. Our main goal is to figure out what book is the most profitable. How will we judge what the \"most profitable\" book is though? Our dataset represents customer purchases. One way to define \"most profitable\" might be to just choose the book that's purchased the most. Another way to define it would be to see how much money each book generates overall."
   ]
  },
  {
   "cell_type": "markdown",
   "metadata": {},
   "source": [
    "We'll define most profitable book in terms of how many books there was sold. \n",
    "\n",
    "`complete_reviews %>% \n",
    "  group_by(book) %>% \n",
    "  summarize(\n",
    "    purchased = n()\n",
    "  ) %>% \n",
    "  arrange(-purchased)`"
   ]
  },
  {
   "cell_type": "markdown",
   "metadata": {},
   "source": [
    "The books are relatively well matched in terms of purchasing, but \"Fundamentals of R For Beginners\" has a slight edge over everyone else. "
   ]
  },
  {
   "cell_type": "markdown",
   "metadata": {},
   "source": [
    "After performing the cleaning and analysis, we might think that that's the end. Throughout the project, we should write some notes to ourself about exploring the data, cleaning it and analyzing it. Remember that we are performing this analysis for the benefit of the company that hired us, so they'll most likely be expecting some form of report from us. They're not going to do the analysis themselves, so we'll need to be able to explain everything that we did in our report and our findings.\n",
    "\n",
    "Writing a report or creating some polished product after the analysis is important because we need to be able to **communicate** our findings to others. This is especially important when the people reading our analysis are not programmers themselves and will not be able to understand the code that we wrote for it. Take some time to organize our notes into a small report. This report doesn't need to be a long essay! It only need to communicate the answer to our company's question: \"What's our most profitable book?\" There are several sub-questions that might need to be answered along with this question like, \"How do we know it's the most profitable?\" or \"How did we calculate our measure for profitability\"? Our report is just trying to demonstrate that we have an answer and that we gave some thought on how to get to this answer.\n",
    "\n",
    "Aside from our hypothetical situation, writing a good report can help show future employers that we are able to think both programmatically and communicate well. For any future analysis we might do, having a polished final product that can be easily read will always be looked up favorably."
   ]
  },
  {
   "cell_type": "markdown",
   "metadata": {},
   "source": [
    "A good, common way to structure a report is into three parts: Introduction, Findings, Conclusion\n",
    "\n",
    "* `Introduction`: What motivated our analysis? What kind of data do we have? What is the main question we're trying to answer?\n",
    "* `Findings`: What did we need to do to the data to do our analysis? What things are we calculating to answer our main question?\n",
    "* `Conclusion`: What is the answer to our main question? Was there anything that we feel limits our analysis? What should the reader do with our findings?"
   ]
  },
  {
   "cell_type": "code",
   "execution_count": null,
   "metadata": {},
   "outputs": [],
   "source": []
  }
 ],
 "metadata": {
  "kernelspec": {
   "display_name": "Python 3",
   "language": "python",
   "name": "python3"
  },
  "language_info": {
   "codemirror_mode": {
    "name": "ipython",
    "version": 3
   },
   "file_extension": ".py",
   "mimetype": "text/x-python",
   "name": "python",
   "nbconvert_exporter": "python",
   "pygments_lexer": "ipython3",
   "version": "3.7.6"
  }
 },
 "nbformat": 4,
 "nbformat_minor": 4
}
